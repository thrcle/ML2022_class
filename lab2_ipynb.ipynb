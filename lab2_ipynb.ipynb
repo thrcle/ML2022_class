{
  "cells": [
    {
      "cell_type": "markdown",
      "metadata": {
        "id": "view-in-github",
        "colab_type": "text"
      },
      "source": [
        "<a href=\"https://colab.research.google.com/github/thrcle/ML2022_class/blob/main/lab2_ipynb.ipynb\" target=\"_parent\"><img src=\"https://colab.research.google.com/assets/colab-badge.svg\" alt=\"Open In Colab\"/></a>"
      ]
    },
    {
      "cell_type": "markdown",
      "metadata": {
        "id": "sVMZSR_bohK6"
      },
      "source": [
        "# Machine Learning - Lab Session 2\n",
        "\n",
        "This material is for educational uses only. Some contents are based on the material provided by other paper/book authors and may be copyrighted by them. \n",
        "\n",
        "**Note**: certain details are missing or ambiguous on purpose, in order to test your knowledge on the related materials. However, if you really feel that something essential is missing and cannot proceed to the next step, then contact the teaching staff with clear description of your problem.\n",
        "\n",
        "### Submitting your work:\n",
        "- <font color=red>**DO NOT clear the final outputs**</font> so that TAs can grade both your code and results.\n",
        "- Commit the `.ipynb` file on your github repository and submit URL on E-Ruri"
      ]
    },
    {
      "cell_type": "markdown",
      "metadata": {
        "id": "nbPO7auSohLA"
      },
      "source": [
        "## Load `diabetes` dataset for Linear Regression"
      ]
    },
    {
      "cell_type": "code",
      "execution_count": 2,
      "metadata": {
        "id": "KKMg-XaUohLB"
      },
      "outputs": [],
      "source": [
        "import numpy as np\n",
        "from sklearn import datasets\n",
        "from sklearn.metrics import mean_squared_error, r2_score\n",
        "\n",
        "# Load the diabetes dataset\n",
        "X, y = datasets.load_diabetes(return_X_y=True)\n",
        "\n",
        "# Use only one feature\n",
        "X = X[:, np.newaxis, 2]\n",
        "\n",
        "# Split the data into training/testing sets\n",
        "X_train = X[:-20]\n",
        "X_test = X[-20:]\n",
        "\n",
        "# Split the targets into training/testing sets\n",
        "y_train = y[:-20]\n",
        "y_test = y[-20:]"
      ]
    },
    {
      "cell_type": "code",
      "source": [
        "# Show data size\n",
        "print('X: ' + str(X.shape))\n",
        "print('y: ' + str(y.shape))\n",
        "\n",
        "print('X_train: ' + str(X_train.shape))\n",
        "print('y_train: ' + str(y_train.shape))\n",
        "\n",
        "print('X_test: ' + str(X_test.shape))\n",
        "print('y_test: ' + str(y_test.shape))"
      ],
      "metadata": {
        "colab": {
          "base_uri": "https://localhost:8080/"
        },
        "id": "ErNryUFKqfT2",
        "outputId": "a6bae112-89ca-4121-a7c1-5095bd65c6ec"
      },
      "execution_count": 3,
      "outputs": [
        {
          "output_type": "stream",
          "name": "stdout",
          "text": [
            "X: (442, 1)\n",
            "y: (442,)\n",
            "X_train: (422, 1)\n",
            "y_train: (422,)\n",
            "X_test: (20, 1)\n",
            "y_test: (20,)\n"
          ]
        }
      ]
    },
    {
      "cell_type": "markdown",
      "metadata": {
        "id": "tb3fmRd2ohLD"
      },
      "source": [
        "### <font color=blue>[Lab #2-1]</font>  Linear regression with sklearn (20 points)\n",
        "\n",
        "Use **linear_model** from Scikit-Learn [[reference](https://scikit-learn.org/stable/auto_examples/linear_model/plot_ols.html)]"
      ]
    },
    {
      "cell_type": "code",
      "execution_count": 4,
      "metadata": {
        "colab": {
          "base_uri": "https://localhost:8080/"
        },
        "id": "S8cxUo75ohLD",
        "outputId": "c9767827-d1e1-49fe-8a51-413ffc47a4dc"
      },
      "outputs": [
        {
          "output_type": "stream",
          "name": "stdout",
          "text": [
            "SK Parameters: 152.9189, 938.2379\n",
            "SK train MSE: 3955.0199\n",
            "SK test MSE: 2548.0724\n"
          ]
        }
      ],
      "source": [
        "from sklearn import linear_model\n",
        "import matplotlib.pyplot as plt\n",
        "%matplotlib inline\n",
        "\n",
        "# create model  \n",
        "sk_lin_regr = linear_model.LinearRegression()\n",
        "# train model\n",
        "sk_lin_regr.fit(X_train, y_train)\n",
        "print('SK Parameters: %.4f, %.4f' %\n",
        "      (sk_lin_regr.intercept_, np.squeeze(sk_lin_regr.coef_, axis=0)))\n",
        "\n",
        "# inferece with train data\n",
        "y_train_pred = sk_lin_regr.predict(X_train)\n",
        "print('SK train MSE: %.4f' %\n",
        "      mean_squared_error(y_train, y_train_pred) )\n",
        "\n",
        "# inferece with test data\n",
        "y_test_pred = sk_lin_regr.predict(X_test)\n",
        "print('SK test MSE: %.4f' %\n",
        "      mean_squared_error(y_test, y_test_pred) )"
      ]
    },
    {
      "cell_type": "code",
      "source": [
        "# plot outputs\n",
        "plt.scatter(X_test, y_test, color='black')\n",
        "plt.plot(X_test, y_test_pred, color='blue', linewidth=3)\n",
        "\n",
        "plt.xlabel('X')\n",
        "plt.ylabel('y')\n",
        "\n",
        "plt.xticks(())\n",
        "plt.yticks(())\n",
        "\n",
        "plt.show()"
      ],
      "metadata": {
        "colab": {
          "base_uri": "https://localhost:8080/",
          "height": 262
        },
        "id": "pVCczHKNsJFl",
        "outputId": "8c6313f7-6772-49a4-b4ff-02bfd444f892"
      },
      "execution_count": 5,
      "outputs": [
        {
          "output_type": "display_data",
          "data": {
            "text/plain": [
              "<Figure size 432x288 with 1 Axes>"
            ],
            "image/png": "[encoded data removed]"
          },
          "metadata": {}
        }
      ]
    },
    {
      "cell_type": "markdown",
      "metadata": {
        "id": "q2PInhrLohLE"
      },
      "source": [
        "### <font color=blue>[Lab #2-2]</font> Linear regression without sklearn (20 points)\n",
        "1. Complete the following class definition.  \n",
        "2. You can write your code only within the marked with comments.\n",
        "\n",
        "**[hint]** You can use `np.linalg.inv` for inverse and `np.matmul` for matrix multiplication.\n",
        "$$\n",
        "\\mathbf{X}^\\dagger = (\\mathbf{X}^\\top\\mathbf{X})^{-1}\\mathbf{X}^\\top\n",
        "\\\\\n",
        "\\mathbf{w}_{\\textrm{lin}}=\\mathbf{X}^\\dagger y\n",
        "$$"
      ]
    },
    {
      "cell_type": "code",
      "source": [
        "np.matmul(np.linalg.inv(np.matmul(X.T,X)), X.T)"
      ],
      "metadata": {
        "colab": {
          "base_uri": "https://localhost:8080/"
        },
        "id": "niipPVQThsqX",
        "outputId": "b5cbf273-44ea-4420-e8a5-6e8ce6406595"
      },
      "execution_count": 22,
      "outputs": [
        {
          "output_type": "execute_result",
          "data": {
            "text/plain": [
              "array([[ 0.06169621, -0.05147406,  0.04445121, -0.01159501, -0.03638469,\n",
              "        -0.04069594, -0.04716281, -0.00189471,  0.06169621,  0.03906215,\n",
              "        -0.08380842,  0.01750591, -0.02884001, -0.00189471, -0.02560657,\n",
              "        -0.01806189,  0.04229559,  0.01211685, -0.0105172 , -0.01806189,\n",
              "        -0.05686312, -0.02237314, -0.00405033,  0.06061839,  0.03582872,\n",
              "        -0.01267283, -0.07734155,  0.05954058, -0.02129532, -0.00620595,\n",
              "         0.04445121, -0.06548562,  0.12528712, -0.05039625, -0.06332999,\n",
              "        -0.03099563,  0.02289497,  0.01103904,  0.07139652,  0.01427248,\n",
              "        -0.00836158, -0.06764124, -0.0105172 , -0.02345095,  0.06816308,\n",
              "        -0.03530688, -0.01159501, -0.0730303 , -0.04177375,  0.01427248,\n",
              "        -0.00728377,  0.0164281 , -0.00943939, -0.01590626,  0.0250506 ,\n",
              "        -0.04931844,  0.04121778, -0.06332999, -0.06440781, -0.02560657,\n",
              "        -0.00405033,  0.00457217, -0.00728377, -0.0374625 , -0.02560657,\n",
              "        -0.02452876, -0.01806189, -0.01482845, -0.02991782, -0.046085  ,\n",
              "        -0.06979687,  0.03367309, -0.00405033, -0.02021751,  0.00241654,\n",
              "        -0.03099563,  0.02828403, -0.03638469, -0.05794093, -0.0374625 ,\n",
              "         0.01211685, -0.02237314, -0.03530688,  0.00996123, -0.03961813,\n",
              "         0.07139652, -0.07518593, -0.00620595, -0.04069594, -0.04824063,\n",
              "        -0.02560657,  0.0519959 ,  0.00457217, -0.06440781, -0.01698407,\n",
              "        -0.05794093,  0.00996123,  0.08864151, -0.00512814, -0.06440781,\n",
              "         0.01750591, -0.04500719,  0.02828403,  0.04121778,  0.06492964,\n",
              "        -0.03207344, -0.07626374,  0.04984027,  0.04552903, -0.00943939,\n",
              "        -0.03207344,  0.00457217,  0.02073935,  0.01427248,  0.11019775,\n",
              "         0.00133873,  0.05846277, -0.02129532, -0.0105172 , -0.04716281,\n",
              "         0.00457217,  0.01750591,  0.08109682,  0.0347509 ,  0.02397278,\n",
              "        -0.00836158, -0.06117437, -0.00189471, -0.06225218,  0.0164281 ,\n",
              "         0.09618619, -0.06979687, -0.02129532, -0.05362969,  0.0433734 ,\n",
              "         0.05630715, -0.0816528 ,  0.04984027,  0.11127556,  0.06169621,\n",
              "         0.01427248,  0.04768465,  0.01211685,  0.00564998,  0.04660684,\n",
              "         0.12852056,  0.05954058,  0.09295276,  0.01535029, -0.00512814,\n",
              "         0.0703187 , -0.00405033, -0.00081689, -0.04392938,  0.02073935,\n",
              "         0.06061839, -0.0105172 , -0.03315126, -0.06548562,  0.0433734 ,\n",
              "        -0.06225218,  0.06385183,  0.03043966,  0.07247433, -0.0191397 ,\n",
              "        -0.06656343, -0.06009656,  0.06924089,  0.05954058, -0.02668438,\n",
              "        -0.02021751, -0.046085  ,  0.07139652, -0.07949718,  0.00996123,\n",
              "        -0.03854032,  0.01966154,  0.02720622, -0.00836158, -0.01590626,\n",
              "         0.00457217, -0.04285156,  0.00564998, -0.03530688,  0.02397278,\n",
              "        -0.01806189,  0.04229559, -0.0547075 , -0.00297252, -0.06656343,\n",
              "        -0.01267283, -0.04177375, -0.03099563, -0.00512814, -0.05901875,\n",
              "         0.0250506 , -0.046085  ,  0.00349435,  0.05415152, -0.04500719,\n",
              "        -0.05794093, -0.05578531,  0.00133873,  0.03043966,  0.00672779,\n",
              "         0.04660684,  0.02612841,  0.04552903,  0.04013997, -0.01806189,\n",
              "         0.01427248,  0.03690653,  0.00349435, -0.07087468, -0.03315126,\n",
              "         0.09403057,  0.03582872,  0.03151747, -0.06548562, -0.04177375,\n",
              "        -0.03961813, -0.03854032, -0.02560657, -0.02345095, -0.06656343,\n",
              "         0.03259528, -0.046085  , -0.02991782, -0.01267283, -0.01590626,\n",
              "         0.07139652, -0.03099563,  0.00026092,  0.03690653,  0.03906215,\n",
              "        -0.01482845,  0.00672779, -0.06871905, -0.00943939,  0.01966154,\n",
              "         0.07462995, -0.00836158, -0.02345095, -0.046085  ,  0.05415152,\n",
              "        -0.03530688, -0.03207344, -0.0816528 ,  0.04768465,  0.06061839,\n",
              "         0.05630715,  0.09834182,  0.05954058,  0.03367309,  0.05630715,\n",
              "        -0.06548562,  0.16085492, -0.05578531, -0.02452876, -0.03638469,\n",
              "        -0.00836158, -0.04177375,  0.12744274, -0.07734155,  0.02828403,\n",
              "        -0.02560657, -0.06225218, -0.00081689,  0.08864151, -0.03207344,\n",
              "         0.03043966,  0.00888341,  0.00672779, -0.02021751, -0.02452876,\n",
              "        -0.01159501,  0.02612841, -0.05901875, -0.03638469, -0.02452876,\n",
              "         0.01858372, -0.0902753 , -0.00512814, -0.05255187, -0.02237314,\n",
              "        -0.02021751, -0.0547075 , -0.00620595, -0.01698407,  0.05522933,\n",
              "         0.07678558,  0.01858372, -0.02237314,  0.09295276, -0.03099563,\n",
              "         0.03906215, -0.06117437, -0.00836158, -0.0374625 , -0.01375064,\n",
              "         0.07355214, -0.02452876,  0.03367309,  0.0347509 , -0.03854032,\n",
              "        -0.03961813, -0.00189471, -0.03099563, -0.046085  ,  0.00133873,\n",
              "         0.06492964,  0.04013997, -0.02345095,  0.05307371,  0.04013997,\n",
              "        -0.02021751,  0.01427248, -0.03422907,  0.00672779,  0.00457217,\n",
              "         0.03043966,  0.0519959 ,  0.06169621, -0.00728377,  0.00564998,\n",
              "         0.05415152, -0.00836158,  0.114509  ,  0.06708527, -0.05578531,\n",
              "         0.03043966, -0.02560657,  0.10480869, -0.00620595, -0.04716281,\n",
              "        -0.04824063,  0.08540807, -0.01267283, -0.03315126, -0.00728377,\n",
              "        -0.01375064,  0.05954058,  0.02181716,  0.01858372, -0.01159501,\n",
              "        -0.00297252,  0.01750591, -0.02991782, -0.02021751, -0.05794093,\n",
              "         0.06061839, -0.04069594, -0.07195249, -0.05578531,  0.04552903,\n",
              "        -0.00943939, -0.03315126,  0.04984027, -0.08488624,  0.00564998,\n",
              "         0.02073935, -0.00728377,  0.10480869, -0.02452876, -0.00620595,\n",
              "        -0.03854032,  0.13714305,  0.17055523,  0.00241654,  0.03798434,\n",
              "        -0.05794093, -0.00943939, -0.02345095, -0.0105172 , -0.03422907,\n",
              "        -0.00297252,  0.06816308,  0.00996123,  0.00241654, -0.03854032,\n",
              "         0.02612841, -0.08919748,  0.06061839, -0.02884001, -0.02991782,\n",
              "        -0.0191397 , -0.04069594,  0.01535029, -0.02452876,  0.00133873,\n",
              "         0.06924089, -0.06979687, -0.02991782, -0.046085  ,  0.01858372,\n",
              "         0.00133873, -0.03099563, -0.00405033,  0.01535029,  0.02289497,\n",
              "         0.04552903, -0.04500719, -0.03315126,  0.097264  ,  0.05415152,\n",
              "         0.12313149, -0.08057499,  0.09295276, -0.05039625, -0.01159501,\n",
              "        -0.0277622 ,  0.05846277,  0.08540807, -0.00081689,  0.00672779,\n",
              "         0.00888341,  0.08001901,  0.07139652, -0.02452876, -0.0547075 ,\n",
              "        -0.03638469,  0.0164281 ,  0.07786339, -0.03961813,  0.01103904,\n",
              "        -0.04069594, -0.03422907,  0.00564998,  0.08864151, -0.03315126,\n",
              "        -0.05686312, -0.03099563,  0.05522933, -0.06009656,  0.00133873,\n",
              "        -0.02345095, -0.07410811,  0.01966154, -0.01590626, -0.01590626,\n",
              "         0.03906215, -0.0730303 ]])"
            ]
          },
          "metadata": {},
          "execution_count": 22
        }
      ]
    },
    {
      "cell_type": "code",
      "execution_count": 29,
      "metadata": {
        "id": "hJxgV0hmohLF"
      },
      "outputs": [],
      "source": [
        "from numpy.linalg import inv\n",
        "\n",
        "class LinearRegression():\n",
        "    def fit(self, X, y):\n",
        "        #linear regression\n",
        "        self.X_psuedo_inv = np.matmul(np.linalg.inv(np.matmul(X.T,X)), X.T)\n",
        "        self.w = np.matmul(self.X_psuedo_inv,y)\n",
        "\n",
        "    def predict(self, X):\n",
        "        return  X @ self.w\n",
        "    \n",
        "    def get_weights(self):\n",
        "        return self.w"
      ]
    },
    {
      "cell_type": "markdown",
      "metadata": {
        "id": "60qrz1hPohLG"
      },
      "source": [
        "Extend $\\mathbf{X}$ with $\\mathbf{1}_d=(1,1,…,1)∈\\mathbb{R}^d$ using `add_one_column` method which we used in Lab 1.\n",
        "$$\n",
        "\\mathbf{X} = \\begin{bmatrix} x_1 \\\\\n",
        "x_2 \\\\\n",
        "\\vdots  \\\\\n",
        "x_d \\\\\n",
        "\\end{bmatrix}\n",
        "\\Rightarrow\n",
        "\\mathbf{X} = \\begin{bmatrix}\n",
        "1 & x_1 \\\\\n",
        "1 & x_2 \\\\\n",
        "\\vdots  & \\vdots  \\\\\n",
        "1 & x_d \\\\\n",
        "\\end{bmatrix}\n",
        "$$\n",
        "\n",
        "By using X, you should compute optimal weight, `w_lin`.\n",
        "\n",
        "**[hint]** compute pseudo-inverse of $\\mathbf{X}$"
      ]
    },
    {
      "cell_type": "code",
      "source": [
        "def add_one_column(data):\n",
        "    # number of data records\n",
        "    N = len(data) \n",
        "\n",
        "    # add column of ones for x_0\n",
        "    return np.c_[np.ones(N), data] "
      ],
      "metadata": {
        "id": "CgZcg-uqvrDk"
      },
      "execution_count": 30,
      "outputs": []
    },
    {
      "cell_type": "code",
      "execution_count": 31,
      "metadata": {
        "colab": {
          "base_uri": "https://localhost:8080/"
        },
        "id": "DxJOCbLyohLG",
        "outputId": "df667ecc-017e-4227-a601-243c2e384466"
      },
      "outputs": [
        {
          "output_type": "stream",
          "name": "stdout",
          "text": [
            "X_train_extneded:  (422, 2)\n",
            "X_test_extneded:  (20, 2)\n"
          ]
        }
      ],
      "source": [
        "X_train_extended = add_one_column(X_train)\n",
        "X_test_extended = add_one_column(X_test)\n",
        "print('X_train_extneded: ', str(X_train_extended.shape))\n",
        "print('X_test_extneded: ', str(X_test_extended.shape))"
      ]
    },
    {
      "cell_type": "code",
      "source": [
        "# create model\n",
        "np_lin_regr = LinearRegression()\n",
        "\n",
        "# train model\n",
        "np_lin_regr.fit(X_train_extended, y_train)\n",
        "\n",
        "print('Numpy Parameters: %.4f, %.4f' %\n",
        "      (np_lin_regr.get_weights()[0], np_lin_regr.get_weights()[1]))"
      ],
      "metadata": {
        "colab": {
          "base_uri": "https://localhost:8080/"
        },
        "id": "4Pk4DGrCzcPK",
        "outputId": "9065b4e3-e3af-444e-b82e-b8c083883342"
      },
      "execution_count": 32,
      "outputs": [
        {
          "output_type": "stream",
          "name": "stdout",
          "text": [
            "Numpy Parameters: 152.9189, 938.2379\n"
          ]
        }
      ]
    },
    {
      "cell_type": "code",
      "source": [
        "# inferece with train data\n",
        "y_train_pred = np_lin_regr.predict(X_train_extended)\n",
        "print('NP train MSE: %.4f' %\n",
        "      mean_squared_error(y_train, y_train_pred) )\n",
        "\n",
        "# inferece with test data\n",
        "y_test_pred = np_lin_regr.predict(X_test_extended)\n",
        "print('NP test MSE: %.4f' %\n",
        "      mean_squared_error(y_test, y_test_pred) )"
      ],
      "metadata": {
        "id": "VRs3NU6mzeWj"
      },
      "execution_count": 33,
      "outputs": []
    },
    {
      "cell_type": "code",
      "source": [
        "# plot outputs\n",
        "plt.scatter(X_test, y_test, color='black')\n",
        "plt.plot(X_test, y_test_pred, color='blue', linewidth=3)\n",
        "\n",
        "plt.xlabel('X')\n",
        "plt.ylabel('y')\n",
        "\n",
        "plt.xticks(())\n",
        "plt.yticks(())\n",
        "\n",
        "plt.show()"
      ],
      "metadata": {
        "colab": {
          "base_uri": "https://localhost:8080/",
          "height": 262
        },
        "id": "pl9GvuSHziIa",
        "outputId": "0e0e16f4-7c66-4dae-b66a-1052659cbc4b"
      },
      "execution_count": 35,
      "outputs": [
        {
          "output_type": "display_data",
          "data": {
            "text/plain": [
              "<Figure size 432x288 with 1 Axes>"
            ],
            "image/png": "[encoded data removed]"
          },
          "metadata": {}
        }
      ]
    },
    {
      "cell_type": "markdown",
      "source": [
        "## Load `breast_cancer` data for Logistic Regression"
      ],
      "metadata": {
        "id": "iIIDaTRoDzXR"
      }
    },
    {
      "cell_type": "code",
      "source": [
        "from sklearn.datasets import load_breast_cancer\n",
        "\n",
        "data = load_breast_cancer()\n",
        "\n",
        "X = data.data[:, [0, 6]]\n",
        "y = data.target\n",
        "\n",
        "# show data size\n",
        "print('X: ' + str(X.shape))\n",
        "print('y: ' + str(y.shape))"
      ],
      "metadata": {
        "colab": {
          "base_uri": "https://localhost:8080/"
        },
        "id": "G4_Aksny2s6j",
        "outputId": "4e7108dc-1862-4d4c-df7c-7369b8d2144f"
      },
      "execution_count": 36,
      "outputs": [
        {
          "output_type": "stream",
          "name": "stdout",
          "text": [
            "X: (569, 2)\n",
            "y: (569,)\n"
          ]
        }
      ]
    },
    {
      "cell_type": "markdown",
      "source": [
        "Split data into train and test set."
      ],
      "metadata": {
        "id": "oiKAGoHkE43J"
      }
    },
    {
      "cell_type": "code",
      "source": [
        "from sklearn.model_selection import train_test_split\n",
        "\n",
        "# Split the data into training/testing sets\n",
        "X_train, X_test, y_train, y_test = train_test_split(\n",
        "    X, y, test_size=0.33, random_state=42)\n",
        "\n",
        "# Show data size\n",
        "print('X_train: ' + str(X_train.shape))\n",
        "print('y_train: ' + str(y_train.shape))\n",
        "\n",
        "print('X_test: ' + str(X_test.shape))\n",
        "print('y_test: ' + str(y_test.shape))"
      ],
      "metadata": {
        "colab": {
          "base_uri": "https://localhost:8080/"
        },
        "id": "rnqtj6zV2yX6",
        "outputId": "24fa7507-3d88-4f71-af04-830f5413ebb7"
      },
      "execution_count": 37,
      "outputs": [
        {
          "output_type": "stream",
          "name": "stdout",
          "text": [
            "X_train: (381, 2)\n",
            "y_train: (381,)\n",
            "X_test: (188, 2)\n",
            "y_test: (188,)\n"
          ]
        }
      ]
    },
    {
      "cell_type": "markdown",
      "source": [
        "### <font color=blue>[Lab #2-3]</font> Logisitic regression with sklearn (20 points)\n",
        "Use **linear_model** from Scikit-Learn."
      ],
      "metadata": {
        "id": "K3r5414b1oXq"
      }
    },
    {
      "cell_type": "code",
      "source": [
        "# create model\n",
        "sk_logis_regr = linear_model.LogisticRegression()   ############################\n",
        "\n",
        "# train model\n",
        "sk_logis_regr.fit(X_train, y_train)\n",
        "\n",
        "print('SK Parameters: %.4f, %.4f, %.4f' %\n",
        "      (sk_logis_regr.intercept_,\n",
        "       sk_logis_regr.coef_[0, 0], sk_logis_regr.coef_[0, 1]))"
      ],
      "metadata": {
        "colab": {
          "base_uri": "https://localhost:8080/"
        },
        "id": "PV97BjCP3Zem",
        "outputId": "62db31f4-a279-46f3-c271-367c2a84aee9"
      },
      "execution_count": 39,
      "outputs": [
        {
          "output_type": "stream",
          "name": "stdout",
          "text": [
            "SK Parameters: 12.9441, -0.8589, -2.7129\n"
          ]
        }
      ]
    },
    {
      "cell_type": "code",
      "source": [
        "from sklearn.metrics import accuracy_score\n",
        "\n",
        "# inferece with train data\n",
        "y_train_pred = sk_logis_regr.predict(X_train)\n",
        "print('SK train accuracy: %.4f' %\n",
        "      accuracy_score(y_train, y_train_pred) )\n",
        "\n",
        "# inferece with test data\n",
        "y_test_pred = sk_logis_regr.predict(X_test)\n",
        "print('SK test accuracy: %.4f' %\n",
        "      accuracy_score(y_test, y_test_pred) )"
      ],
      "metadata": {
        "colab": {
          "base_uri": "https://localhost:8080/"
        },
        "id": "BlLUz6FS51g-",
        "outputId": "a9ee40a8-5df0-43ab-daf8-8c61232c3861"
      },
      "execution_count": 40,
      "outputs": [
        {
          "output_type": "stream",
          "name": "stdout",
          "text": [
            "SK train accuracy: 0.8714\n",
            "SK test accuracy: 0.9149\n"
          ]
        }
      ]
    },
    {
      "cell_type": "markdown",
      "source": [
        "### <font color=blue>[Lab #2-4]</font> Logisitic regression with PyTorch (20 points)\n"
      ],
      "metadata": {
        "id": "Ud6F-YyO1ymU"
      }
    },
    {
      "cell_type": "markdown",
      "source": [
        "Import `PyTorch` packages"
      ],
      "metadata": {
        "id": "AIv8_PMg_u1d"
      }
    },
    {
      "cell_type": "code",
      "source": [
        "import torch"
      ],
      "metadata": {
        "id": "juou7sgD1mrl"
      },
      "execution_count": 41,
      "outputs": []
    },
    {
      "cell_type": "markdown",
      "source": [
        "Convert data into `Tensor`, the inherence data type for `Pytorch`."
      ],
      "metadata": {
        "id": "5PoDfjiP_0ih"
      }
    },
    {
      "cell_type": "code",
      "source": [
        "X_train_tensor = torch.FloatTensor(X_train)\n",
        "y_train_tensor = torch.FloatTensor(y_train)\n",
        "\n",
        "X_test_tensor = torch.FloatTensor(X_test)\n",
        "y_test_tensor = torch.FloatTensor(y_test)"
      ],
      "metadata": {
        "id": "vGiWZoK49b5U"
      },
      "execution_count": 42,
      "outputs": []
    },
    {
      "cell_type": "markdown",
      "source": [
        "Define LogisiticRegression with [`torch.nn.Linear`](https://pytorch.org/docs/stable/generated/torch.nn.Linear.html) and [`torch.nn.Sigmoid`](https://pytorch.org/docs/stable/generated/torch.sigmoid.html?highlight=sigmoid#torch.sigmoid)."
      ],
      "metadata": {
        "id": "n2zaGmJCAKSL"
      }
    },
    {
      "cell_type": "code",
      "source": [
        "class LogisticRegression(torch.nn.Module):\n",
        "    def __init__(self):\n",
        "        super().__init__()\n",
        "        self.linear = torch.nn.Linear(2,1)  ## writing 2,1\n",
        "        self.sigmoid = torch.nn.Sigmoid()  ## writing\n",
        "    \n",
        "    def forward(self, x):\n",
        "        signal = self.linear(x)\n",
        "        prob = self.sigmoid(signal)\n",
        "        return prob"
      ],
      "metadata": {
        "id": "v_ESKjIY6IYM"
      },
      "execution_count": 44,
      "outputs": []
    },
    {
      "cell_type": "code",
      "source": [
        "# set hyper-parameter\n",
        "NUM_EPOCH = 20000\n",
        "LEARNING_RATE = 0.1"
      ],
      "metadata": {
        "id": "y_3EJQdlCHsl"
      },
      "execution_count": 45,
      "outputs": []
    },
    {
      "cell_type": "markdown",
      "source": [
        "Construct your learning precedure\n",
        "\n",
        "1.   Create model with your own model class `LogisticRegression`\n",
        "2.   Define error term with Binary Cross Entropy [[ref](https://pytorch.org/docs/stable/generated/torch.nn.BCELoss.html)]\n",
        "3.   Define optimizer with Stochastic Gradient Descent [[ref](https://pytorch.org/docs/stable/generated/torch.optim.SGD.html?highlight=sgd#torch.optim.SGD)]\n",
        "\n"
      ],
      "metadata": {
        "id": "2bluWKDVJq_W"
      }
    },
    {
      "cell_type": "code",
      "source": [
        "# create model\n",
        "torch_logis_regr =LogisticRegression()\n",
        "\n",
        "# define error term\n",
        "criterion = torch.nn.BCELoss()\n",
        "\n",
        "# define optimizer technique \n",
        "optimizer = torch.optim.SGD(torch_logis_regr.parameters(),LEARNING_RATE)"
      ],
      "metadata": {
        "id": "OjnFJoem2Es6"
      },
      "execution_count": 56,
      "outputs": []
    },
    {
      "cell_type": "code",
      "source": [
        "for epoch in range(NUM_EPOCH):\n",
        "    # inference\n",
        "    prob = torch_logis_regr(X_train_tensor)\n",
        "\n",
        "    # compute loss\n",
        "    loss = criterion(prob.squeeze(), y_train_tensor)\n",
        "   \n",
        "    # remove previous gradient  # 초기화 \n",
        "    optimizer.zero_grad()\n",
        "    \n",
        "    # compute gradient\n",
        "    loss.backward()\n",
        "\n",
        "    # run optimizer\n",
        "    optimizer.step()\n",
        "\n",
        "    if not (epoch % 500):\n",
        "      print('epoch [%5d / %5d] %.4f' %\n",
        "            (epoch, NUM_EPOCH, loss.item()))"
      ],
      "metadata": {
        "colab": {
          "base_uri": "https://localhost:8080/"
        },
        "id": "EkdxBiwm6z08",
        "outputId": "8a063c93-d762-408c-8834-ba40971555aa"
      },
      "execution_count": 57,
      "outputs": [
        {
          "output_type": "stream",
          "name": "stdout",
          "text": [
            "epoch [    0 / 20000] 0.8022\n",
            "epoch [  500 / 20000] 1.4686\n",
            "epoch [ 1000 / 20000] 1.5648\n",
            "epoch [ 1500 / 20000] 1.2021\n",
            "epoch [ 2000 / 20000] 0.3279\n",
            "epoch [ 2500 / 20000] 0.2878\n",
            "epoch [ 3000 / 20000] 0.2855\n",
            "epoch [ 3500 / 20000] 0.2833\n",
            "epoch [ 4000 / 20000] 0.2811\n",
            "epoch [ 4500 / 20000] 0.2791\n",
            "epoch [ 5000 / 20000] 0.2771\n",
            "epoch [ 5500 / 20000] 0.2752\n",
            "epoch [ 6000 / 20000] 0.2734\n",
            "epoch [ 6500 / 20000] 0.2716\n",
            "epoch [ 7000 / 20000] 0.2699\n",
            "epoch [ 7500 / 20000] 0.2683\n",
            "epoch [ 8000 / 20000] 0.2667\n",
            "epoch [ 8500 / 20000] 0.2652\n",
            "epoch [ 9000 / 20000] 0.2637\n",
            "epoch [ 9500 / 20000] 0.2623\n",
            "epoch [10000 / 20000] 0.2609\n",
            "epoch [10500 / 20000] 0.2596\n",
            "epoch [11000 / 20000] 0.2583\n",
            "epoch [11500 / 20000] 0.2571\n",
            "epoch [12000 / 20000] 0.2559\n",
            "epoch [12500 / 20000] 0.2548\n",
            "epoch [13000 / 20000] 0.2537\n",
            "epoch [13500 / 20000] 0.2526\n",
            "epoch [14000 / 20000] 0.2516\n",
            "epoch [14500 / 20000] 0.2506\n",
            "epoch [15000 / 20000] 0.2496\n",
            "epoch [15500 / 20000] 0.2487\n",
            "epoch [16000 / 20000] 0.2478\n",
            "epoch [16500 / 20000] 0.2470\n",
            "epoch [17000 / 20000] 0.2462\n",
            "epoch [17500 / 20000] 0.2454\n",
            "epoch [18000 / 20000] 0.2446\n",
            "epoch [18500 / 20000] 0.2439\n",
            "epoch [19000 / 20000] 0.2432\n",
            "epoch [19500 / 20000] 0.2425\n"
          ]
        }
      ]
    },
    {
      "cell_type": "code",
      "source": [
        "# inferece with train data\n",
        "y_train_prob = torch_logis_regr(X_train_tensor)\n",
        "y_train_pred = y_train_prob > 0.5\n",
        "print('Torch train accuracy: %.4f' %\n",
        "      accuracy_score(y_train, y_train_pred) )\n",
        "\n",
        "# inferece with test data\n",
        "y_test_prob = torch_logis_regr(X_test_tensor)\n",
        "y_test_pred = y_test_prob > 0.5\n",
        "print('Torch train accuracy: %.4f' %\n",
        "      accuracy_score(y_test, y_test_pred) )"
      ],
      "metadata": {
        "colab": {
          "base_uri": "https://localhost:8080/"
        },
        "id": "pYsPsh8d8TA1",
        "outputId": "236b2a6d-bc80-4097-bfab-16ceea6cb96e"
      },
      "execution_count": 58,
      "outputs": [
        {
          "output_type": "stream",
          "name": "stdout",
          "text": [
            "Torch train accuracy: 0.9003\n",
            "Torch train accuracy: 0.9255\n"
          ]
        }
      ]
    }
  ],
  "metadata": {
    "kernelspec": {
      "display_name": "Python 3",
      "language": "python",
      "name": "python3"
    },
    "language_info": {
      "codemirror_mode": {
        "name": "ipython",
        "version": 3
      },
      "file_extension": ".py",
      "mimetype": "text/x-python",
      "name": "python",
      "nbconvert_exporter": "python",
      "pygments_lexer": "ipython3",
      "version": "3.6.4"
    },
    "colab": {
      "name": "lab2.ipynb의 사본",
      "provenance": [],
      "collapsed_sections": [],
      "toc_visible": true,
      "include_colab_link": true
    }
  },
  "nbformat": 4,
  "nbformat_minor": 0
}